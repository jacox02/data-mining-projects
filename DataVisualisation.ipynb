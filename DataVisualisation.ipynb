{
  "nbformat": 4,
  "nbformat_minor": 0,
  "metadata": {
    "colab": {
      "name": "Untitled0.ipynb",
      "provenance": [],
      "collapsed_sections": [],
      "authorship_tag": "ABX9TyOlddJKzgGJLhJE3nzri5g6",
      "include_colab_link": true
    },
    "kernelspec": {
      "name": "python3",
      "display_name": "Python 3"
    },
    "language_info": {
      "name": "python"
    }
  },
  "cells": [
    {
      "cell_type": "markdown",
      "metadata": {
        "id": "view-in-github",
        "colab_type": "text"
      },
      "source": [
        "<a href=\"https://colab.research.google.com/github/jacox02/data-mining-projects/blob/main/DataVisualisation.ipynb\" target=\"_parent\"><img src=\"https://colab.research.google.com/assets/colab-badge.svg\" alt=\"Open In Colab\"/></a>"
      ]
    },
    {
      "cell_type": "code",
      "metadata": {
        "id": "15yySVTVwQBp",
        "outputId": "433dfc82-8ac9-440d-ead1-6be1c8dbba06",
        "colab": {
          "base_uri": "https://localhost:8080/",
          "height": 134
        }
      },
      "source": [
        "import pandas as pd\n",
        "import numpy as np\n",
        "import matplotlib.pyplot as plt\n",
        "\n",
        "from google.colab import files\n",
        "# uploaded = files.upload()\n",
        "dataset = pd.read_csv(io.BytesIO(uploaded['DR_real_estate_data_Nov_2020.csv']))\n",
        "\n",
        "y_side = dataset[\"Price\"].head(20)\n",
        "x_side = dataset[\"Rooms\"].head(20)\n",
        "santo_domingo = dataset[(dataset['Province'] == 'Santo Domingo')]\n",
        "santiago = dataset[(dataset['Province'] == 'Santiago')]\n",
        "# dataset\n",
        "\n",
        "santiago['Price']\n",
        "santiago['Rooms']\n",
        "index = 4\n",
        "santo_domingo['Price']\n",
        "santo_domingo['Rooms']\n",
        "ROOMS = dataset['Rooms']\n",
        "# prices = ['Santo Domingo': santo_domingo['Price'], 'Santiago': santiago['Price']]\n",
        "\n",
        "\n",
        "fig, ax = plt.subplots()\n",
        "# ax.bar(x_side, y_side)\n",
        "ax.plot(santo_domingo['Price'].head(index),ROOMS.head(index), color='tab:red', marker='^', label='Santo Domingo')\n",
        "ax.plot(santiago['Price'].head(index),ROOMS.head(index), color='tab:blue',  marker='o',  label='Santiago'\n",
        "ax.legend(['A simple line'])\n",
        "plt.show()\n",
        "# dataset.head(100)"
      ],
      "execution_count": 85,
      "outputs": [
        {
          "output_type": "error",
          "ename": "SyntaxError",
          "evalue": "ignored",
          "traceback": [
            "\u001b[0;36m  File \u001b[0;32m\"<ipython-input-85-537d722474cc>\"\u001b[0;36m, line \u001b[0;32m28\u001b[0m\n\u001b[0;31m    ax.legend(['A simple line'])\u001b[0m\n\u001b[0m     ^\u001b[0m\n\u001b[0;31mSyntaxError\u001b[0m\u001b[0;31m:\u001b[0m invalid syntax\n"
          ]
        }
      ]
    }
  ]
}